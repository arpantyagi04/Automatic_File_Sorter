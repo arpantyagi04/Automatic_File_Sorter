{
 "cells": [
  {
   "cell_type": "code",
   "execution_count": 1,
   "id": "39ca95b4",
   "metadata": {},
   "outputs": [],
   "source": [
    "# importing os module to interact with the operating system, perform file and directory operations, and manage paths.\n",
    "\n",
    "# shutil module is used for file operations, including copying, moving, renaming, and deleting files and directories.\n",
    "\n",
    "import os, shutil"
   ]
  },
  {
   "cell_type": "code",
   "execution_count": 2,
   "id": "7f612639",
   "metadata": {},
   "outputs": [],
   "source": [
    "# Name the folders based on the file types\n",
    "\n",
    "folder_names = ['image files', 'csv files', 'mp4 files', 'excel files', 'json files', 'pdf files', 'word files']"
   ]
  },
  {
   "cell_type": "code",
   "execution_count": 3,
   "id": "1a29914c",
   "metadata": {},
   "outputs": [],
   "source": [
    "# Path is the destination where our messy files are located\n",
    "\n",
    "path = r\"C:/Users/abcd/OneDrive/Downloads/random files/\""
   ]
  },
  {
   "cell_type": "code",
   "execution_count": 4,
   "id": "8fbaa71f",
   "metadata": {},
   "outputs": [],
   "source": [
    "# Listing files and directories in the specified directory\n",
    "\n",
    "file_name = os.listdir(path)"
   ]
  },
  {
   "cell_type": "code",
   "execution_count": 5,
   "id": "1bec317e",
   "metadata": {},
   "outputs": [],
   "source": [
    "# Create folders if they don't exist\n",
    "\n",
    "for folder_name in folder_names:\n",
    "    if not os.path.exists(path + folder_name):\n",
    "        os.makedirs(path + folder_name)"
   ]
  },
  {
   "cell_type": "code",
   "execution_count": 6,
   "id": "9bcd1930",
   "metadata": {},
   "outputs": [],
   "source": [
    "# Move files to their respective folders based on extension\n",
    "\n",
    "for file in file_name:\n",
    "    file_extension = os.path.splitext(file)[-1].lower()\n",
    "     \n",
    "    if file_extension == \".csv\":\n",
    "        shutil.move(path + file, path + \"csv files/\" + file)\n",
    "    elif file_extension == \".jpg\":\n",
    "        shutil.move(path + file, path + \"image files/\" + file)\n",
    "    elif file_extension == \".mp4\":\n",
    "        shutil.move(path + file, path + \"mp4 files/\" + file)\n",
    "    elif file_extension == \".xlsb\":\n",
    "        shutil.move(path + file, path + \"excel files/\" + file)\n",
    "    elif file_extension == \".json\":\n",
    "        shutil.move(path + file, path + \"json files/\" + file)\n",
    "    elif file_extension == \".pdf\":\n",
    "        shutil.move(path + file, path + \"pdf files/\" + file)\n",
    "    elif file_extension == \".docx\":\n",
    "        shutil.move(path + file, path + \"word files/\" + file)"
   ]
  },
  {
   "cell_type": "code",
   "execution_count": null,
   "id": "0a7da9c6",
   "metadata": {},
   "outputs": [],
   "source": []
  }
 ],
 "metadata": {
  "kernelspec": {
   "display_name": "Python 3 (ipykernel)",
   "language": "python",
   "name": "python3"
  },
  "language_info": {
   "codemirror_mode": {
    "name": "ipython",
    "version": 3
   },
   "file_extension": ".py",
   "mimetype": "text/x-python",
   "name": "python",
   "nbconvert_exporter": "python",
   "pygments_lexer": "ipython3",
   "version": "3.9.7"
  }
 },
 "nbformat": 4,
 "nbformat_minor": 5
}
